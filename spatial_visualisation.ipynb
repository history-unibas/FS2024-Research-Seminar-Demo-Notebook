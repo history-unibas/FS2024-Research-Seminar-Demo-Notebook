{
 "cells": [
  {
   "cell_type": "markdown",
   "metadata": {},
   "source": [
    "Visualisierung im Raum\n",
    "==============\n",
    "Dieses Notebook soll am Beispiel der HGB-Daten einen Einblick geben, wie Punktdaten in Python räumlich visualisiert werden können. Für dieses Notebook wird hauptsächlich die Bibliothek \"ipyleaflet\" benutzt. Die Dokumentation von dieser Bibliothek kann unter folgendem Link aufgerufen werden: https://ipyleaflet.readthedocs.io."
   ]
  },
  {
   "cell_type": "code",
   "execution_count": null,
   "metadata": {},
   "outputs": [],
   "source": [
    "# Import packages.\n",
    "import pandas as pd\n",
    "from pyproj import Transformer\n",
    "from ipyleaflet import Map, WMSLayer, Circle, Popup, Heatmap, LayerGroup, LegendControl\n",
    "import ipywidgets as widgets\n",
    "import time"
   ]
  },
  {
   "cell_type": "markdown",
   "metadata": {},
   "source": [
    "# Lese Beispieldaten\n",
    "Basierend auf dem Demo-Notebook 3.0 (https://colab.research.google.com/drive/1_eNm90UzcLxHm44WJt9mj5YBmnwwELYI?usp=sharing) wurden Beispiel-Suchresultate für dieses Notebook erstellt:\n",
    "- Es wurden folgende Suchparameter benutzt:\n",
    "    - YEAR_MIN = 1500\n",
    "    - YEAR_MAX = 1550\n",
    "    - XPATH_EXP = \"./Body//Reference[@normalization='Heiliggeist-Spital']\"\n",
    "- Die Filterfunktion des Demo-Notebooks wurde nicht benutzt.\n",
    "- Die Suchresultate wurden als Exceltabelle exportiert. Dateiname: \"example_search_results.xlsx\"."
   ]
  },
  {
   "cell_type": "code",
   "execution_count": null,
   "metadata": {},
   "outputs": [],
   "source": [
    "# Define data source.\n",
    "URL_DATA = 'https://github.com/history-unibas/FS2024-Research-Seminar-Demo-Notebook/raw/ec5aeaaedbdf4f75427addbafe285ab433694ea0/example_search_results.xlsx'\n",
    "\n",
    "# Load the data.\n",
    "result_df = pd.read_excel(URL_DATA)\n",
    "\n",
    "# Show the data.\n",
    "display(result_df)"
   ]
  },
  {
   "cell_type": "code",
   "execution_count": null,
   "metadata": {},
   "outputs": [],
   "source": [
    "# Correct the data structure.\n",
    "result_df['coll_id'] = result_df['coll_id'].apply(lambda x: x[2:-3])\n",
    "result_df['coll_house'] = result_df['coll_house'].apply(lambda x: x[2:-3])\n",
    "result_df['coll_x'] = result_df['coll_x'].apply(lambda x: x[2:-3])\n",
    "result_df['coll_y'] = result_df['coll_y'].apply(lambda x: x[2:-3])\n",
    "result_df"
   ]
  },
  {
   "cell_type": "markdown",
   "metadata": {},
   "source": [
    "# Transformiere die Koordinaten in WGS 84"
   ]
  },
  {
   "cell_type": "code",
   "execution_count": null,
   "metadata": {},
   "outputs": [],
   "source": [
    "# Transform the coordinates of the search results.\n",
    "def transform_coords(x, y):\n",
    "    transformer = Transformer.from_crs(2056, 4326)\n",
    "    return transformer.transform(x, y)\n",
    "result_df['lat'], result_df['lon'] = zip(*result_df.apply(\n",
    "    lambda row: transform_coords(row['coll_x'], row['coll_y']), axis=1\n",
    "    ))\n",
    "result_df"
   ]
  },
  {
   "cell_type": "markdown",
   "metadata": {},
   "source": [
    "# Definiere eine Grundkarte\n",
    "Vorgehen zur Verwendung weiterer Grundkarten des Kantons Basel-Stadt:\n",
    "1. Suche im Geoportal https://map.geo.bs.ch nach der gewünschten Karte (Layer)\n",
    "2. Suche den Titel der gewünschten Karte in folgender XML-Datei: https://wms.geo.bs.ch/?SERVICE=wms&REQUEST=GetCapabilities\n",
    "3. Kopiere der \"Name\" der ausgewählten Karte und ersetze der Parameter \"layers\" in nachfolgender Codezelle."
   ]
  },
  {
   "cell_type": "code",
   "execution_count": null,
   "metadata": {},
   "outputs": [],
   "source": [
    "# Define the basemap.\n",
    "basemap = WMSLayer(\n",
    "    url='https://wms.geo.bs.ch/',\n",
    "    layers='HP_Situationsplan_Basel_1862',\n",
    "    attribution='Geodaten Kanton Basel-Stadt'\n",
    ")\n",
    "\n",
    "# Show the basemap on a map.\n",
    "m1 = Map(basemap=basemap, center=(47.557, 7.595), zoom=14)\n",
    "m1"
   ]
  },
  {
   "cell_type": "markdown",
   "metadata": {},
   "source": [
    "# Stelle die Suchresultate als Punkte auf der Karte dar"
   ]
  },
  {
   "cell_type": "code",
   "execution_count": null,
   "metadata": {},
   "outputs": [],
   "source": [
    "# Define a map.\n",
    "m2 = Map(basemap=basemap, center=(47.557, 7.595), zoom=14)\n",
    "\n",
    "# Add the search results to the map.\n",
    "for index, row in result_df.iterrows():\n",
    "    \n",
    "    # Create Circle.\n",
    "    circle = Circle(location=(row['lat'], row['lon']),\n",
    "                    radius=3,\n",
    "                    color='blue',\n",
    "                    fill_color='blue')\n",
    "\n",
    "    # Add the circle to the map.\n",
    "    m2.add(circle)\n",
    "\n",
    "#  Display the map.\n",
    "m2"
   ]
  },
  {
   "cell_type": "markdown",
   "metadata": {},
   "source": [
    "# Definiere für die Suchresultate ein Pop-up"
   ]
  },
  {
   "cell_type": "code",
   "execution_count": null,
   "metadata": {},
   "outputs": [],
   "source": [
    "# Define a map.\n",
    "m3 = Map(basemap=basemap, center=(47.557, 7.595), zoom=14)\n",
    "\n",
    "# Add the search results to the map.\n",
    "for index, row in result_df.iterrows():\n",
    "    \n",
    "    # Create Circle.\n",
    "    circle = Circle(location=(row['lat'], row['lon']),\n",
    "                    radius=3,\n",
    "                    color='blue',\n",
    "                    fill_color='blue')\n",
    "    \n",
    "    # Add pop-up to display attributes of the circle.\n",
    "    popup_content = f\"\"\"\n",
    "        ID: {row['coll_id']}<br>\n",
    "        House: {row['coll_house']}<br>\n",
    "        Pages: {row['doc_pageNum']}<br>\n",
    "        Year: {row['doc_date']}<br>\n",
    "        <a href=\"{row['doc_image']}\">Open Image</a>\n",
    "        \"\"\"\n",
    "    popup = Popup(location=(row['lat'], row['lon']), child=widgets.HTML(popup_content), close_button=True)\n",
    "    circle.popup = popup\n",
    "\n",
    "    # Add the circle to the map.\n",
    "    m3.add(circle)\n",
    "\n",
    "#  Display the map.\n",
    "m3"
   ]
  },
  {
   "cell_type": "markdown",
   "metadata": {},
   "source": [
    "# Suchresultate pro Kategorie darstellen"
   ]
  },
  {
   "cell_type": "code",
   "execution_count": null,
   "metadata": {},
   "outputs": [],
   "source": [
    "# Define the column of the dataframe according to which coloring is to take place.\n",
    "CATEGORY_COLUMN = 'res_head'\n",
    "\n",
    "# Define the colors per category.\n",
    "CATEGORY_COLOR = {'Spital ': 'red',\n",
    "                  'Spittal ': 'blue',\n",
    "                  'Spitals ': 'green',\n",
    "                  'else': 'black'\n",
    "                  }\n",
    "\n",
    "# Define a map.\n",
    "m4 = Map(basemap=basemap, center=(47.557, 7.595), zoom=14)\n",
    "\n",
    "# Add the search results to the map.\n",
    "for index, row in result_df.iterrows():\n",
    "    \n",
    "    # Determine color based on the value of CATEGORY_COLUMN.\n",
    "    color = CATEGORY_COLOR.get(row[CATEGORY_COLUMN])\n",
    "    if color is None:\n",
    "        color = CATEGORY_COLOR.get('else')\n",
    "    \n",
    "    # Create circle using color based on category.\n",
    "    circle = Circle(location=(row['lat'], row['lon']),\n",
    "                    radius=3,\n",
    "                    color=color,\n",
    "                    fill_color=color)\n",
    "    \n",
    "    # Add the circle to the map.\n",
    "    m4.add(circle)\n",
    "\n",
    "# Add a legend.\n",
    "legend = LegendControl(legend=CATEGORY_COLOR)\n",
    "m4.add(legend)\n",
    "\n",
    "# Display the map.\n",
    "m4"
   ]
  },
  {
   "cell_type": "markdown",
   "metadata": {},
   "source": [
    "# Erstelle eine Heatmap"
   ]
  },
  {
   "cell_type": "code",
   "execution_count": null,
   "metadata": {},
   "outputs": [],
   "source": [
    "# Define a map.\n",
    "m5 = Map(basemap=basemap, center=(47.557, 7.595), zoom=14)\n",
    "\n",
    "# Create a heatmap layer.\n",
    "heatmap_layer = Heatmap(locations=result_df[['lat', 'lon']].values.tolist(),\n",
    "                        radius=5,\n",
    "                        blur=8,\n",
    "                        gradient={0.4: 'blue', 0.6: 'cyan', 0.7: 'lime', 0.8: 'yellow', 1.0: 'red'})\n",
    "\n",
    "# Add the heatmap layer to the map.\n",
    "m5.add_layer(heatmap_layer)\n",
    "\n",
    "# Display the map.\n",
    "m5"
   ]
  },
  {
   "cell_type": "markdown",
   "metadata": {},
   "source": [
    "# Animierte Visualisierung über die Zeit"
   ]
  },
  {
   "cell_type": "code",
   "execution_count": null,
   "metadata": {},
   "outputs": [],
   "source": [
    "# Time interval in years.\n",
    "TIME_INTERVAL = 10\n",
    "\n",
    "# Time in seconds showing each interval.\n",
    "TIME_STEP = 5\n",
    "\n",
    "# Define a map.\n",
    "m6 = Map(basemap=basemap, center=(47.557, 7.595), zoom=14)\n",
    "\n",
    "#  Display the map.\n",
    "display(m6)\n",
    "\n",
    "# Determine minimal and maximal year.\n",
    "min_year = result_df['doc_date'].min()\n",
    "max_year = result_df['doc_date'].max()\n",
    "\n",
    "# Initialize a group layer.\n",
    "layer_group = LayerGroup()\n",
    "m6.add(layer_group)\n",
    "\n",
    "# Initialize a legend.\n",
    "legend = LegendControl(legend={})\n",
    "m6.add(legend)\n",
    "\n",
    "# Create circles for each time interval.\n",
    "min_interval = min_year\n",
    "max_interval = min_interval + TIME_INTERVAL - 1\n",
    "while min_interval <= max_year:\n",
    "    # Define the sleeping time.\n",
    "    time.sleep(TIME_STEP)\n",
    "    \n",
    "    # Define a temporary layer.\n",
    "    layer_group_new = LayerGroup()\n",
    "\n",
    "    # Determine the results within the current time interval.\n",
    "    result_interval = result_df[(result_df['doc_date'] >= min_interval) & (result_df['doc_date'] <= max_interval)]\n",
    "\n",
    "    for index, row in result_interval.iterrows():\n",
    "        # Create circle.\n",
    "        circle = Circle(location=(row['lat'], row['lon']),\n",
    "                        radius=3,\n",
    "                        color='blue',\n",
    "                        fill_color='blue')\n",
    "\n",
    "        # Add circle to the group layer.\n",
    "        layer_group_new.add(circle)\n",
    "\n",
    "    # Update the group layer.\n",
    "    m6.remove(layer_group)\n",
    "    layer_group = layer_group_new\n",
    "    m6.add(layer_group)\n",
    "\n",
    "    # Update the legend.\n",
    "    m6.remove(legend)\n",
    "    legend = LegendControl(legend={f'{min_interval} - {min(max_interval, max_year)}': 'blue'})\n",
    "    m6.add(legend)\n",
    "\n",
    "    # Update the interval.\n",
    "    min_interval += TIME_INTERVAL\n",
    "    max_interval += TIME_INTERVAL"
   ]
  },
  {
   "cell_type": "markdown",
   "metadata": {},
   "source": [
    "# Exportiere die Karte als html"
   ]
  },
  {
   "cell_type": "code",
   "execution_count": null,
   "metadata": {},
   "outputs": [],
   "source": [
    "m5.save('heatmap.html')"
   ]
  }
 ],
 "metadata": {
  "kernelspec": {
   "display_name": ".venv",
   "language": "python",
   "name": "python3"
  },
  "language_info": {
   "codemirror_mode": {
    "name": "ipython",
    "version": 3
   },
   "file_extension": ".py",
   "mimetype": "text/x-python",
   "name": "python",
   "nbconvert_exporter": "python",
   "pygments_lexer": "ipython3",
   "version": "3.10.11"
  }
 },
 "nbformat": 4,
 "nbformat_minor": 2
}
