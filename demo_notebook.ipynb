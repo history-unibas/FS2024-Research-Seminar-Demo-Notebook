{
 "cells": [
  {
   "cell_type": "markdown",
   "metadata": {},
   "source": [
    "# Einleitung\n",
    "Dieses Jupyter Notebook demonstriert, wie aufbereitete Daten des Historischen Grundbuchs der Stadt Basel durchsucht werden können.\n",
    "\n",
    "Bemerkung: Je nach Suche, Suchbegriff und Suchzeitraum kann die Suche einige Zeit dauern.\n",
    "\n",
    "TODO\n",
    "- Weitere Informationen zum HGB?\n",
    "- Weitere Informationen zum zur Verfügung gestellten Datensatz. Welche Daten sind vorhanden, Aussage über Genauigkeit, Datenschema,..."
   ]
  },
  {
   "cell_type": "markdown",
   "metadata": {},
   "source": [
    "# Importiere Packages\n",
    "Importiere für dieses Skript notwendige Funktionen."
   ]
  },
  {
   "cell_type": "code",
   "execution_count": 1,
   "metadata": {},
   "outputs": [],
   "source": [
    "import zipfile\n",
    "import os\n",
    "import xml.etree.ElementTree as ET\n",
    "import pandas as pd\n",
    "import numpy as np\n",
    "from IPython.display import display, HTML\n",
    "import matplotlib.pyplot as plt\n",
    "from pyproj import Transformer\n",
    "from ipyleaflet import Map, WMSLayer, Circle, Popup\n",
    "import ipywidgets as widgets\n",
    "from thefuzz import fuzz"
   ]
  },
  {
   "cell_type": "markdown",
   "metadata": {},
   "source": [
    "# Entpacke Datengrundlage\n",
    "Entpacke für die Suche verwendete Datengrundlage."
   ]
  },
  {
   "cell_type": "code",
   "execution_count": 2,
   "metadata": {},
   "outputs": [],
   "source": [
    "# Datasource for the search.\n",
    "FILEPATH_DATASOURCE = './hgb_corpus_24_07_26_inline_full_updated.zip'\n",
    "\n",
    "# Unzip the file.\n",
    "with zipfile.ZipFile(FILEPATH_DATASOURCE, 'r') as myzip:\n",
    "    myzip.extractall('.')\n",
    "\n",
    "# Update the filepath.\n",
    "FILEPATH_DATASOURCE = os.path.splitext(FILEPATH_DATASOURCE)[0] + '.xml'"
   ]
  },
  {
   "cell_type": "markdown",
   "metadata": {},
   "source": [
    "# Freitextsuche\n",
    "Beispiel: Suche nach dem Begriff \"Wysung\" in Paragraphen von Dokumenten im Zeitraum 1550 – 1600."
   ]
  },
  {
   "cell_type": "markdown",
   "metadata": {},
   "source": [
    "## Definiere Suchparameter\n",
    "Festlegen der gewünschten Parameter für die Suche."
   ]
  },
  {
   "cell_type": "code",
   "execution_count": 3,
   "metadata": {},
   "outputs": [],
   "source": [
    "# Set search word.\n",
    "SEARCH_KEYWORD = 'Wysung'\n",
    "\n",
    "# Define search period.\n",
    "YEAR_MIN = 1550\n",
    "YEAR_MAX = 1600"
   ]
  },
  {
   "cell_type": "markdown",
   "metadata": {},
   "source": [
    "## Suche ausführen\n",
    "Durchführung der Freitextsuche."
   ]
  },
  {
   "cell_type": "code",
   "execution_count": 4,
   "metadata": {},
   "outputs": [
    {
     "name": "stdout",
     "output_type": "stream",
     "text": [
      "The keyword \"Wysung\" was found in 26 documents in the period 1550 - 1600.\n"
     ]
    }
   ],
   "source": [
    "# Load xml file.\n",
    "context = ET.iterparse(FILEPATH_DATASOURCE, events=('start', 'end'))\n",
    "\n",
    "# Create an empty dataframe to store the search results.\n",
    "results = pd.DataFrame(\n",
    "    columns=['id', 'house', 'coord_x', 'coord_y',\n",
    "             'pages', 'year', 'text', 'imagelinks'\n",
    "             ]\n",
    "    )\n",
    "\n",
    "# Iterate over each element.\n",
    "collection_element = None\n",
    "for event, elem in context:\n",
    "\n",
    "    # The start event is triggered when the parser encounters the opening tag of an element.\n",
    "    if event == 'start' and elem.tag == 'Collection':\n",
    "            \n",
    "        # Store current collection element.\n",
    "        collection_element = elem\n",
    "    \n",
    "    # The end event is triggered when the parser encounters the closing tag of an element.\n",
    "    elif event == 'end' and elem.tag == 'Document':\n",
    "            \n",
    "        # Get the header element.\n",
    "        header = elem.find('Header')\n",
    "        \n",
    "        # Determine the year of the document.\n",
    "        year = int(header.get('year'))\n",
    "\n",
    "        # Skip the document if not in desired search period.\n",
    "        if year < YEAR_MIN or year > YEAR_MAX:\n",
    "            continue\n",
    "\n",
    "        # Get the text attribute.\n",
    "        text = header.get('text')\n",
    "\n",
    "        # Search for keyword in text.\n",
    "        if SEARCH_KEYWORD in text:\n",
    "        \n",
    "            # Store selected elements in dataframe.\n",
    "            results.loc[len(results)] = [\n",
    "                collection_element.attrib['id'],\n",
    "                collection_element.attrib['house'],\n",
    "                collection_element.attrib['coord_x'],\n",
    "                collection_element.attrib['coord_y'],\n",
    "                header.get('pages'),\n",
    "                year,\n",
    "                text,\n",
    "                header.get('imagelinks')\n",
    "                ]\n",
    "\n",
    "# Print the number of search results.\n",
    "print(f'The keyword \"{SEARCH_KEYWORD}\" was found in {results.shape[0]} documents '\n",
    "      f'in the period {YEAR_MIN} - {YEAR_MAX}.'\n",
    "      )"
   ]
  },
  {
   "cell_type": "markdown",
   "metadata": {},
   "source": [
    "## Ergebnisse in Tabelle darstellen\n",
    "Die Suchergebnisse werden in einer Tabelle dargestellt. Der Suchbegriff wird im Text vorgehoben und das zugehörige Digitalisat zur Verfügung gestellt.\n"
   ]
  },
  {
   "cell_type": "code",
   "execution_count": 5,
   "metadata": {},
   "outputs": [
    {
     "data": {
      "text/html": [
       "<table border=\"1\" class=\"dataframe\">\n",
       "  <thead>\n",
       "    <tr style=\"text-align: right;\">\n",
       "      <th></th>\n",
       "      <th>id</th>\n",
       "      <th>house</th>\n",
       "      <th>pages</th>\n",
       "      <th>year</th>\n",
       "      <th>text</th>\n",
       "      <th>imagelinks</th>\n",
       "    </tr>\n",
       "  </thead>\n",
       "  <tbody>\n",
       "    <tr>\n",
       "      <th>0</th>\n",
       "      <td>HGB_1_024_074</td>\n",
       "      <td>Barfüsserplatz 35</td>\n",
       "      <td>29</td>\n",
       "      <td>1552</td>\n",
       "      <td>Privat Urkunde.\\nAmbrosi Dorn der Fischmacher, Burger zu Basel und\\nMargreth sin eelich Wyb verkaufen dem Closter zu\\nsant Lienhart zu Basel 10 sh. Gelts jerlichs Zinses von uff\\nund abe irem Sashuse und Hofstatt sambt dem Höffli\\ndarhinder, als das in der Statt Basel, oben an der Gär¬\\nwer Gassen, zwischen dem Huss Grüneckh und\\nRisen Hus gelegen und Herrnberg genant ist, zinst\\njerlichs von wegen der Eigenschafft dem gemelten Kloster,\\nvormols 2 ℔. Zinspfg, 2 Ring Brots zu <span style=\"color: red;\">Wysung</span> und\\n3sh. zu Erschatz, sodann zinset das Höffli in das Hus\\nBabenberg 13 sh. und 4 Sabler Zinspfg. dem Closter Clingen,\\ntal 1 ℔. Gelts, um 10℔. Stäbler.</td>\n",
       "      <td><a href=\"https://files.transkribus.eu/Get?id=ISNALLIKRNUYLCMHYGESAIGR&fileType=view\" target=\"_blank\"><img src=\"https://files.transkribus.eu/Get?id=ISNALLIKRNUYLCMHYGESAIGR&fileType=view\" width=\"100\" /></a></td>\n",
       "    </tr>\n",
       "    <tr>\n",
       "      <th>1</th>\n",
       "      <td>HGB_1_024_119</td>\n",
       "      <td>Barfüsserplatz 32</td>\n",
       "      <td>37</td>\n",
       "      <td>1577</td>\n",
       "      <td>Hanns Lux Hagenbach, Schaffner und jnnamen der Presen,\\nS. Peter Stift, hat Michel Böglins, Meigers zu Buschwyler,\\nHus und Hofstatt by der Barfüssern, gegen Barfüssericht\\nüber zu einer dem Hus Hudan, genannt Heinrich Betzen\\nHus, andersyts neben dem Hus Pflatterin gelegen, versessener\\nZinsen wegen, als der Presentz jährl. darab 10 sh. ein ring\\nbrots zur <span style=\"color: red;\">Wysung</span> und 2 ½ sh. zu Erschatz zinst wird,\\ngefrönt.</td>\n",
       "      <td><a href=\"https://files.transkribus.eu/Get?id=LASJBJMCOOIBSFSUSERLQPGL&fileType=view\" target=\"_blank\"><img src=\"https://files.transkribus.eu/Get?id=LASJBJMCOOIBSFSUSERLQPGL&fileType=view\" width=\"100\" /></a></td>\n",
       "    </tr>\n",
       "    <tr>\n",
       "      <th>2</th>\n",
       "      <td>HGB_1_058_041</td>\n",
       "      <td>Freie Strasse Theil von 35 neben 33</td>\n",
       "      <td>15, 16</td>\n",
       "      <td>1575</td>\n",
       "      <td>Rathsurkunde.\\nDer Rath bewilligt dem Burger Ambrosien Darmosen, wirt zu\\ndem Wildenman in Basel in dara Köwin, siner ehelichen Husfrowen,\\ndas solliche Herberg, doch it leger, dan ir beder Reben lang und so\\nlang sie bede Wegemacht dieselb ir Herberg ze dem Wildenmann\\neigener Person besitzen, hewonen, ein Herren Herberg sein, die\\nwie andere Herren Würt bruchen und das sy desshalb nach <span style=\"color: red;\">Wysung</span> unser\\nerkhantin und gesetzten Ordnung ein zwey, oder dreyerleg wyn haben,\\ndenselben Jren Gesten zutrinckhen, das Mal u. mit mehr das Pfenwert.\\ngeben, u. dieselben Wyn, so sie inlegendt, noch der Ordmung sag, besigen\\nlassen, und davon das Ambgelt bezalen, die Gest frenndtlichen u.\\nbescheidenlichen hallten, allen utzen Gesindem liederlicher\\nLüden, alls hemifegern, Schaffhonte Trägern u. derglychen\\nnachtbarer noch gülltigen Personen sich entschlachen, die\\nIm beherbergen mit uffneinen, sonders sachs fürweysen u. alls die [sep] obgemelte Her Herberg, u. Würtshafft sober, u. seg, wie Herren Würten\\ngeburt u. intodt, Kallten sollen. falls die obgemelte bede Ehgemelt\\ndie Herberg verlychen des verkaufen, so hat der Uebenchmar eine\\nnam Bewilligung einzuhaler, was ihm von der den Glog, dentlich\\nzu erklarmist.</td>\n",
       "      <td><a href=\"https://files.transkribus.eu/Get?id=PTNWIOIVCWHQRPDXGCONZURY&fileType=view\" target=\"_blank\"><img src=\"https://files.transkribus.eu/Get?id=PTNWIOIVCWHQRPDXGCONZURY&fileType=view\" width=\"100\" /></a> <a href=\"https://files.transkribus.eu/Get?id=OUORFMVWLNXHOBRAXAISIMZM&fileType=view\" target=\"_blank\"><img src=\"https://files.transkribus.eu/Get?id=OUORFMVWLNXHOBRAXAISIMZM&fileType=view\" width=\"100\" /></a></td>\n",
       "    </tr>\n",
       "    <tr>\n",
       "      <th>3</th>\n",
       "      <td>HGB_1_058_070</td>\n",
       "      <td>Freie Strasse 79</td>\n",
       "      <td>34</td>\n",
       "      <td>1573</td>\n",
       "      <td>Privat Urkunde.\\nChristen Murer der Schuchmacher des Rhatz zu Basel\\nund Barbel Scholtmann syn Ehfrouw verkaufen Lien¬\\nharten Schotmans 6 ℔. 5 sh. jerlichs Zinses von uff und ab\\nirem Hus und Hofstat an der freigen Strass gelegen und\\nSandt Jacobs Hus genant, einseit neben Herren Tantha\\nleon Wurstysen, anderseit neben Samuel Wurstysen gelegen\\nstost hinden an den Liechtenfelser Hoff, zinst dem Spittal\\n10 sh. ein Ring Brot ze <span style=\"color: red;\">Wysung</span>, der Presentz uff Burg 10sh.\\nsonst ledig eigen, umb 125 ℔.</td>\n",
       "      <td><a href=\"https://files.transkribus.eu/Get?id=FUWXEWQLTCGONTEMKYBYQPGX&fileType=view\" target=\"_blank\"><img src=\"https://files.transkribus.eu/Get?id=FUWXEWQLTCGONTEMKYBYQPGX&fileType=view\" width=\"100\" /></a></td>\n",
       "    </tr>\n",
       "    <tr>\n",
       "      <th>4</th>\n",
       "      <td>HGB_1_122_060</td>\n",
       "      <td>Marktplatz 18</td>\n",
       "      <td>5, 6</td>\n",
       "      <td>1555</td>\n",
       "      <td>Schultheissenurkunde.\\nJopp Schenckh, Burger zu Basell, und Cristiana Murerin\\ngemet Roman, sie Gefrow, verkaufen Cristoffeln Fröndenberg\\nfür sich selbs und Anastasia Schöttlin sine Eefrow, und\\nGylgen Werenfels, beiden Krämern, Burgern zu Basell\\ndas hus und hoffstatt sampt dem höfli und hindern\\nhus, ouch dem Gedemlin darubendt mit aller Gerechtig¬\\nseit und Zughördt als das im der Statt Basell an dem\\nKornmerckt gegen dem Richthus über, ist ein Eckhus und\\nneben dem hus zum Pfouwen glegen und stoßt hinden us\\nnebend der Gandchen, gegen dem Kornmerckt Brunnen\\nund Pfouwenberg genant ist, zinset järlichs von wegen der\\nGygenschaft das hinder hus und höfflin allein der hohen\\nStifft 3 1/2 Pfundt 7 Schilling gewonlicher Baßler Zinsshein\\nund 4 Ring Brots zu <span style=\"color: red;\">Wysung</span> und 5 Schilling zu Erschatz\\nwan sich die Handt verwandelt, zinset dan das [sep] gantz hus järlich dem Brediger Kloster zu Ba-\\nfell 32 Pfundt 4 Schilling amper Pfennigen, able-\\nsig, um 600 Gulden in Müntz, für geden 1\\npfund und b Schilling guter stebler Baßler Werung,\\ngerechnet, bar bezalt.</td>\n",
       "      <td><a href=\"https://files.transkribus.eu/Get?id=PVOAJECLGBKOATMHUYCIMBWU&fileType=view\" target=\"_blank\"><img src=\"https://files.transkribus.eu/Get?id=PVOAJECLGBKOATMHUYCIMBWU&fileType=view\" width=\"100\" /></a> <a href=\"https://files.transkribus.eu/Get?id=FQYMDAHVBNQBZDAPTPCUNUMI&fileType=view\" target=\"_blank\"><img src=\"https://files.transkribus.eu/Get?id=FQYMDAHVBNQBZDAPTPCUNUMI&fileType=view\" width=\"100\" /></a></td>\n",
       "    </tr>\n",
       "    <tr>\n",
       "      <th>5</th>\n",
       "      <td>HGB_1_063_113</td>\n",
       "      <td>Gerbergasse 56</td>\n",
       "      <td>56</td>\n",
       "      <td>1550</td>\n",
       "      <td>Das Spital hat Hannsen Merrot des Küblers Huss und Hofstatt,\\njnn der Gerwergassen, zwüschen den Hüsern Oberburg und Ho¬\\nchenstein glegen, und Niderburg gnannt ist, versessener zinsen halp\\nals solich Hus jährl. dem Spittal von Eigenschaft 2 ℔. 1/2 ℔ Pfeffer.\\nzur <span style=\"color: red;\">Wysung</span> und 5sh. zu Erschatz zinst, gefrönt.</td>\n",
       "      <td><a href=\"https://files.transkribus.eu/Get?id=QUSAVVCXLKMXEGDKJHMKCFEQ&fileType=view\" target=\"_blank\"><img src=\"https://files.transkribus.eu/Get?id=QUSAVVCXLKMXEGDKJHMKCFEQ&fileType=view\" width=\"100\" /></a></td>\n",
       "    </tr>\n",
       "    <tr>\n",
       "      <th>6</th>\n",
       "      <td>HGB_1_091_039</td>\n",
       "      <td>St. Johanns-Vorstadt 17</td>\n",
       "      <td>41, 42</td>\n",
       "      <td>1587</td>\n",
       "      <td>Hanns Jacoben Seucher des Raths, Jr. Johanns Würtz, Landts\\nschreiber in der Grafschaft Kyburg, Hanns Kamblin Seckhler,\\nschreiber, Hanns Conradt Würtz, und Hanns Jacob Liegler <span style=\"color: red;\">Wysung</span>ern\\nauch Alexander Zieglers seines Bruders jnnamen Hanns Jacoben Zieglers\\ndes Herrn Vogts uff Kyburg jres Vatters, alle Bgr zu Zürich, für sich selbs\\nu. als gwalthaber wyl. Hanns, Thoman Oswalt, Melchior Hanns Thieboldt\\nBurckhardt, u. Jacob der Würtzen, aller sechs gebruder, jtl. Wilhelm, Jacob\\nu. Hanns der Würtzen, allen dreyen auch gelt, sel. Kindern, deren alle\\nin der Zahl 33 sind, verkaufen an Hanns Wernher Gebhart der\\njnnamen seines Vatters Lucas Gebhart d. d. alt Herstzstast.\\nerkauft hat, das Haus, Hof, Hofstatt, Garten, Scheuren, Stallung,\\njn der Vorstatt ze Crütz, einseit neben Mr. Jacob Radt dem\\nVischkeufer bgr. u. des Raths alhie Behausung, so zum gemein Ort,\\ngenannt, anderseit Benedict Kriegelsteins Witwen Hof, so zum\\nhochen Saul genannt, stosst hinden an die Lottergassen, und [sep] Schlierbachshof genannt ist, 4 um 2400 fl.\\nzinst jährl von wegen der eigenschaft in den Bischofl.\\nHof 11 sh. sodann der Stift zu St. Peter 1 ℔, sonst\\nfrey.\\nsodann weiter das Häuslin u. Hofstatt, gegen diesem\\nHof über gelegen, einseit neben dem Haus zum Morenkopflin,\\nanderseit neben Peter Sign, so Holbenshauss genannt, stosst,\\nhinden an den Rhein, ist frey, ledig, eigen,</td>\n",
       "      <td><a href=\"https://files.transkribus.eu/Get?id=XQYKRQZYXCMAVMARPLPMEPRP&fileType=view\" target=\"_blank\"><img src=\"https://files.transkribus.eu/Get?id=XQYKRQZYXCMAVMARPLPMEPRP&fileType=view\" width=\"100\" /></a> <a href=\"https://files.transkribus.eu/Get?id=TTIJNJLGSEIJFDCJDLYBFPJQ&fileType=view\" target=\"_blank\"><img src=\"https://files.transkribus.eu/Get?id=TTIJNJLGSEIJFDCJDLYBFPJQ&fileType=view\" width=\"100\" /></a></td>\n",
       "    </tr>\n",
       "    <tr>\n",
       "      <th>7</th>\n",
       "      <td>HGB_1_018_024</td>\n",
       "      <td>Bäumleingasse Theil von 2, Ecke</td>\n",
       "      <td>34</td>\n",
       "      <td>1570</td>\n",
       "      <td>Balthasar Mygel. Schaffner der Presentz uff Burg, hat Urban Steinmüllers des\\nSchlossers Hus und Hofstatt, an der Freyenstrass, oben bim Leümlin, an\\nden Schwellen, zwüschen den Hüsern zum Helden und Herman von\\nThalhein glegen und zum guldinen Ortlin gnannt ist, versessener Zins.\\nen wegen, als der Presentz jährl. von Eigenschaft wegen 3 ℔ und 4 rings\\nBrott, sodann 1 ℔ und 2 ring brott zur <span style=\"color: red;\">Wysung</span> zinst wird, gefrönt.</td>\n",
       "      <td><a href=\"https://files.transkribus.eu/Get?id=GSDHKMMAGWRUNKCNVGSXGCYV&fileType=view\" target=\"_blank\"><img src=\"https://files.transkribus.eu/Get?id=GSDHKMMAGWRUNKCNVGSXGCYV&fileType=view\" width=\"100\" /></a></td>\n",
       "    </tr>\n",
       "    <tr>\n",
       "      <th>8</th>\n",
       "      <td>HGB_1_197_082</td>\n",
       "      <td>Spalenvorstadt 30</td>\n",
       "      <td>41</td>\n",
       "      <td>1567</td>\n",
       "      <td>Die Presentz der Stifft st. Peter hat Burckhart Herbrotz, Caplan zu\\nRinfelden, Hus und Hofstatt, jm Spalen Vorstatt, zwischen den\\nHüsern Roderstorff und Messerer glegen, und zum Kempfen genan¬\\nist, versessener zinsen halb, als solich Hus ermellter Presentz 10 sh.\\n3 Ring brots zur <span style=\"color: red;\">Wysung</span> und 3 sh. zu Erschatz zinst, gefrönt.</td>\n",
       "      <td><a href=\"https://files.transkribus.eu/Get?id=VPUPVQYBJMCGKHEVXYLUUUBC&fileType=view\" target=\"_blank\"><img src=\"https://files.transkribus.eu/Get?id=VPUPVQYBJMCGKHEVXYLUUUBC&fileType=view\" width=\"100\" /></a></td>\n",
       "    </tr>\n",
       "    <tr>\n",
       "      <th>9</th>\n",
       "      <td>HGB_1_093_008</td>\n",
       "      <td>Karthausgasse 1, 3</td>\n",
       "      <td>17</td>\n",
       "      <td>1572</td>\n",
       "      <td>Schultheissen Urkunde.\\nJacob Oberhoffer der Rebman, Burger zu Mindern Basel\\nund Anna Husslyn die Jung sin Eefrow verkaufen\\ndem Spittal zu Basel 2 ℔ 10 sh. Gelts jerlichs Zinses von\\nuff und ab irem Huss und Hoffstatt, als das in Mindern\\nBasel an dem Kilchgesslin am Eckh gegen dem Rebhus\\nund der Zehenden Brotten über glegen, ze einer am Kilchs\\ngesslin und der andern Sidten an der alten Brunnmei¬\\nsterin, zinset jerlichs dem Closter Clingental 11 sh. und zwei\\nRing Brotts ze <span style=\"color: red;\">Wysung</span>, um 50 ℔.\\nRückseite nichts Näheres.</td>\n",
       "      <td><a href=\"https://files.transkribus.eu/Get?id=JYVJVQVAQARLRHATLDJROGOA&fileType=view\" target=\"_blank\"><img src=\"https://files.transkribus.eu/Get?id=JYVJVQVAQARLRHATLDJROGOA&fileType=view\" width=\"100\" /></a></td>\n",
       "    </tr>\n",
       "    <tr>\n",
       "      <th>10</th>\n",
       "      <td>HGB_1_064_037</td>\n",
       "      <td>Gerbergässlein Theil von 30 neben 32</td>\n",
       "      <td>13</td>\n",
       "      <td>1563</td>\n",
       "      <td>Privat- Urk.\\nPeter von Mechell der Buchfürer und Barbara For\\nSteri sin Eefrow übertragen einen Zins von 3 ℔, 2 heiner\\nzu <span style=\"color: red;\">Wysung</span>, und 2ß Erschatz, den das Petersstift von Eig\\nSchaft wegen gehept hat uff dem Othus im hinderg\\nGerbergessli am obern Byrsich als man zu S. Lienhart\\nden Berg uffgodt, gegen S. Oswalts Cappell über, zu einer\\nSesten an Ulrichen Bratteler und zur andern sesten\\nneben Jacoben Keller gelegen, welches hans die erkauft\\nhaben, auf ir haus genant Crützberg an dem obern\\nGerberg Gerwergesslin uff dem obern Birsich mit den\\nGarten darhinder, sampt dem andern Garten so zu\\ndem vorbemelten Orthus gedienet hat, ouch dem Ussgang\\nso vormalen beyden hüseren gunderen gewesen, hinden\\nuff S. Lienhartsberg, so ledig eigen.</td>\n",
       "      <td><a href=\"https://files.transkribus.eu/Get?id=PMMQTGUKVVZGVRDHQLKEKYLM&fileType=view\" target=\"_blank\"><img src=\"https://files.transkribus.eu/Get?id=PMMQTGUKVVZGVRDHQLKEKYLM&fileType=view\" width=\"100\" /></a></td>\n",
       "    </tr>\n",
       "    <tr>\n",
       "      <th>11</th>\n",
       "      <td>HGB_1_064_037</td>\n",
       "      <td>Gerbergässlein Theil von 30 neben 32</td>\n",
       "      <td>16, 17</td>\n",
       "      <td>1564</td>\n",
       "      <td>oder zu Pfingsten samethaft zu bezalen und\\n2 Hüner <span style=\"color: red;\">Wysung</span> auch 2ß erschatz, alles von\\nwegen der eygenschaft zu bezalen. Disen Zins\\nhaben etwan geben Peter von Mechel der Buch¬\\nfürer und Barbara Forsteri sein chefrow von\\nuf und ab irem Haus und Hofstatt, genannt.\\nCreutzberg, gelegen in der Statt Basel, en dem\\nobern Gerber geslin uf dem oberen Birsich, mit\\ndem garten darhinder sampt dem anderen Gar¬\\nten, so zu dem vorbemelten Orthaus gedient\\nhat, auch dem ausgang so vormalen bey den\\nHeüsern gemein gewesen, hinden uf sanct\\nLienhardsberg darzu gehörend ist, sonst frey,\\nledig eygen.\\nDatum: Anno 1564\\nEs ist auch zuwissen, das diser Zins von langen [sep] zeten har uf dem Orthus under den gerwern an\\nsanct Lienhardtsberg, als man das geslin ufgadt,\\ndarinnen etwan gewohnet hat und den Zins ge¬\\nben Mathis Stürtzel der permenter, zu einer sei¬\\nten an Meister Ulrich Brattenler, und zur\\nanderen seiten neben Jacoben Keller gelegen,\\ngestanden ist. als dan das der alt brief uszug\\nund obgemelter brief meldend und in sich\\nhalten, aber uf Datum des briefs ist daselbig\\nOrthus frey gesagt. das gemelt Haus zum Creutz¬\\nberg zu eygenthümblichen underpfandt an\\nstatt des Thenigen angenomen, durch frund.\\nlicher pitt willen der obgesagten Personen. Und\\nsint die 2 ℔ und 2 Hüner und 2ß erschatz\\nerkauft mit 50 gld. von Plorentz, das ander fund\\ndes gemeldten zinses mit 21 ℔ 5ß.</td>\n",
       "      <td><a href=\"https://files.transkribus.eu/Get?id=BXUZQFHQQPVBKBRFHFNNHKMY&fileType=view\" target=\"_blank\"><img src=\"https://files.transkribus.eu/Get?id=BXUZQFHQQPVBKBRFHFNNHKMY&fileType=view\" width=\"100\" /></a> <a href=\"https://files.transkribus.eu/Get?id=QGNHIWRYFPOBKVAJNCZLFCPK&fileType=view\" target=\"_blank\"><img src=\"https://files.transkribus.eu/Get?id=QGNHIWRYFPOBKVAJNCZLFCPK&fileType=view\" width=\"100\" /></a></td>\n",
       "    </tr>\n",
       "    <tr>\n",
       "      <th>12</th>\n",
       "      <td>HGB_1_064_039</td>\n",
       "      <td>Gerbergässlein 34</td>\n",
       "      <td>12</td>\n",
       "      <td>1571</td>\n",
       "      <td>Hanns Lus Yselin, Schaffner der Cartus im mindern Basel, hat Jacob Kellers\\ndes Metzgers Hus, genannt Stauffenberg, zwüschen dem Hus genannt Küngs\\nfelden und Gip des Gerbers Hus, versessener zinsen wegen, als der Kartus¬\\njährl. darab 6 sh. 8 dn. von Eigenschaft wegen, sodann 2 ring Protts zur <span style=\"color: red;\">Wysung</span>,\\n34/682 und 5 sh. zu Erschatz zinst wird, gefrönt.</td>\n",
       "      <td><a href=\"https://files.transkribus.eu/Get?id=ECNCXCDPEVMZHDQVRQGFOZEU&fileType=view\" target=\"_blank\"><img src=\"https://files.transkribus.eu/Get?id=ECNCXCDPEVMZHDQVRQGFOZEU&fileType=view\" width=\"100\" /></a></td>\n",
       "    </tr>\n",
       "    <tr>\n",
       "      <th>13</th>\n",
       "      <td>HGB_1_086_013</td>\n",
       "      <td>Imbergässlein 7</td>\n",
       "      <td>41</td>\n",
       "      <td>1577</td>\n",
       "      <td>Hanns Lux Hagenbach, Schaffner und jnnamen der Presentz\\ns. Peter Stift, hat Wolff Wielanden, des Treigers, Hus und\\nHofstatt im Fubergesslin gelegen, und Schinznachts Hus genant\\nist das Eckh, ob dem Hus und Keller zu der Fläschen, und\\ngegen dem Imber über gelegen, stosst an das hinder Hus\\nzum Steinkeller, versessener Zinsen wegen, als der Presentz\\njährl darab 10 sh. und vier Rings Brots zur <span style=\"color: red;\">Wysung</span>, zinst\\nwird, gefrönt.</td>\n",
       "      <td><a href=\"https://files.transkribus.eu/Get?id=SAUVHMHVFOUTKDFYMNYRBGEC&fileType=view\" target=\"_blank\"><img src=\"https://files.transkribus.eu/Get?id=SAUVHMHVFOUTKDFYMNYRBGEC&fileType=view\" width=\"100\" /></a></td>\n",
       "    </tr>\n",
       "    <tr>\n",
       "      <th>14</th>\n",
       "      <td>HGB_1_115_009</td>\n",
       "      <td>Leonhardsstapfelberg 2</td>\n",
       "      <td>27, 28</td>\n",
       "      <td>1563</td>\n",
       "      <td>Privat- Urkunde.\\nPeter von Mechell der Buchfürer, Burger zu Basell und\\nBarbara Forsteri sin Eefrow übertragen 3℔. Zinspfennig und\\n2 Hüner zu <span style=\"color: red;\">Wysung</span>, auch 2 sh. Erschatz, so das St. Petersstift\\nvon rechter Eigenschafft wegen fallen gehept hat uff dem Ort¬\\nhuss, als das in der Statt Basel im hindern Gerbergessli,\\nam obern Byrsich, als man zu St. Lienhart den Berg uff\\ngodt, gegen St. Osswalts Cappell über, zu einer Syten an\\nMeister Ulrichen Bratteler und zur andern Syten neben\\nJacoben Keller gelegen, welches Hus si an sich erkaufft ha¬\\nben, uff ir Huss und Hoffstatt genant Crützberg, gelegen,\\nin der Statt Basel in dem obern Gerwergesslin uff dem\\noberen Birsich mit dem Garten darhinder, sampt dem andern\\nGarten, so zu dem vorben Orthus gedienet hatt, ouch dem\\nUssgang, so vormalen beyden Hüseren gemeyn gewessen, [sep] hinden uff St. Lienhartsberg darzu gehörende, so ledig\\neigen.</td>\n",
       "      <td><a href=\"https://files.transkribus.eu/Get?id=VYCHWPYDOFQGMGWBBZEPIIAT&fileType=view\" target=\"_blank\"><img src=\"https://files.transkribus.eu/Get?id=VYCHWPYDOFQGMGWBBZEPIIAT&fileType=view\" width=\"100\" /></a> <a href=\"https://files.transkribus.eu/Get?id=OBKHQMBTOSIBRWKLFABALXXG&fileType=view\" target=\"_blank\"><img src=\"https://files.transkribus.eu/Get?id=OBKHQMBTOSIBRWKLFABALXXG&fileType=view\" width=\"100\" /></a></td>\n",
       "    </tr>\n",
       "    <tr>\n",
       "      <th>15</th>\n",
       "      <td>HGB_1_146_034</td>\n",
       "      <td>Petersberg 25</td>\n",
       "      <td>29</td>\n",
       "      <td>1550</td>\n",
       "      <td>thut 1 ℔ 5ß newer pfennigen zu den bier\\nfronfasten so dan 2ring <span style=\"color: red;\">Wysung</span> uf Mar¬\\ntim und Vassnacht zu geben, und auch 10ß\\nerschatz, von uf und ab der eygenschaft des\\nHauses Freudenberg, so gelegen ist am Berg\\noben am Egghaus, das gegen der ellenden\\nHerberg über ligt, auch gegen Burckhart\\nMünchs seligen Hof über.\\nHaben etwan das gemelte Haus inhandten\\ngehabt und den zins geben Peter Losen des\\nWinschenken erben.\\nohne Datum.</td>\n",
       "      <td><a href=\"https://files.transkribus.eu/Get?id=KPDDZCKVRZEEQHPSEKDYCUPX&fileType=view\" target=\"_blank\"><img src=\"https://files.transkribus.eu/Get?id=KPDDZCKVRZEEQHPSEKDYCUPX&fileType=view\" width=\"100\" /></a></td>\n",
       "    </tr>\n",
       "    <tr>\n",
       "      <th>16</th>\n",
       "      <td>HGB_1_146_062</td>\n",
       "      <td>Petersberg 38</td>\n",
       "      <td>37</td>\n",
       "      <td>1568</td>\n",
       "      <td>Bläsin Schenckh genannt Gerster, Schaffner des Closters Clingenthal im min\\ndern Basel, hat Hannsen Münch, des Schuhbletzers Hus und Hofstatt, by\\nBundolffs Bronnen, an dem Orth, ze nechst an des Würts zur Cronen Scheuren¬\\nglegen, versessener zinsen wegen, als dem Closter jährl. von wegen Eigenschaft\\n1 ℔. 10 sh. 2 Hüener zur <span style=\"color: red;\">Wysung</span> und 10 sh. zu Erschatz wann sich die\\nHand verwandlet zinst wird, gefrönt.</td>\n",
       "      <td><a href=\"https://files.transkribus.eu/Get?id=BMRIWDXRELNFTEWRUEAOVFJU&fileType=view\" target=\"_blank\"><img src=\"https://files.transkribus.eu/Get?id=BMRIWDXRELNFTEWRUEAOVFJU&fileType=view\" width=\"100\" /></a></td>\n",
       "    </tr>\n",
       "    <tr>\n",
       "      <th>17</th>\n",
       "      <td>HGB_1_068_008</td>\n",
       "      <td>Grünpfahlgasse 4</td>\n",
       "      <td>31</td>\n",
       "      <td>1593</td>\n",
       "      <td>Jacob Meiger, Schaffner zu den Predigern, Charitas Byrfalckhin Haus,\\ngegen der Badstuben zum Mülinstein über, neben Hanns Jacob\\nRosenburgers und Bernhardt Osers Heüsern gelegen, versessener zum\\nsen wegen, als dem Closter jährl. darab 1 ℔. und 2 Hüener zur\\n<span style=\"color: red;\">Wysung</span> zinst wird, gefrönt.</td>\n",
       "      <td><a href=\"https://files.transkribus.eu/Get?id=PKINNXDGGRMLIIXTAYHBWOHQ&fileType=view\" target=\"_blank\"><img src=\"https://files.transkribus.eu/Get?id=PKINNXDGGRMLIIXTAYHBWOHQ&fileType=view\" width=\"100\" /></a></td>\n",
       "    </tr>\n",
       "    <tr>\n",
       "      <th>18</th>\n",
       "      <td>HGB_1_190_034</td>\n",
       "      <td>Schwanengasse 16</td>\n",
       "      <td>54</td>\n",
       "      <td>1570</td>\n",
       "      <td>Hanns Jacob Tantz, Underschreiber des Spittals hat Marthin Sebzellters des\\nBüchsenschmids sel. Witwen Hus und Hofstatt, am Vischmerkht, zwüschen\\nRudolph Schlechten des Scherrers und Jacob Clauser des Molers Hüsern glegen,\\nund zum wyssen Leüwen gnannt ist, versessener zinsen wegen, als dem Spital\\njährl. in das Hinderampt von Eigenschaft wegen 4 ℔. 10 sh. 1 ℔ Pfeffer zur\\n<span style=\"color: red;\">Wysung</span> und 1 ℔ zu Erschatz wann sich die Hand verwandlet zinst wird,\\ngefrönt.</td>\n",
       "      <td><a href=\"https://files.transkribus.eu/Get?id=VYJBZHOVWGSHJEJOGDNRCXEU&fileType=view\" target=\"_blank\"><img src=\"https://files.transkribus.eu/Get?id=VYJBZHOVWGSHJEJOGDNRCXEU&fileType=view\" width=\"100\" /></a></td>\n",
       "    </tr>\n",
       "    <tr>\n",
       "      <th>19</th>\n",
       "      <td>HGB_1_056_045</td>\n",
       "      <td>Fischmarkt 14</td>\n",
       "      <td>41</td>\n",
       "      <td>1570</td>\n",
       "      <td>Georg Bierman Schaffner des Closters st. Claren im mindern Basel, hat Balt¬\\nhasar Langen, des Seylers, Haus und Hofstatt, under dem Salgasten vor\\nund hinden zwischen Lorentz Rychart dem Scherrer und Mr. Batt Huen\\ndem Vischkeüffer glegen, versessener zinsen wegen, als dem Closter jährl.\\ndarab 7 ℔. 2 ℔ Pfeffer 4 Ring zur <span style=\"color: red;\">Wysung</span> und 2 ℔ zu Erschatz zinst\\nwird, gefrönt.</td>\n",
       "      <td><a href=\"https://files.transkribus.eu/Get?id=SYRFAEMRUYMCSCQYCRQKZYDX&fileType=view\" target=\"_blank\"><img src=\"https://files.transkribus.eu/Get?id=SYRFAEMRUYMCSCQYCRQKZYDX&fileType=view\" width=\"100\" /></a></td>\n",
       "    </tr>\n",
       "    <tr>\n",
       "      <th>20</th>\n",
       "      <td>HGB_1_137_086</td>\n",
       "      <td>Nadelberg 36</td>\n",
       "      <td>49</td>\n",
       "      <td>1550</td>\n",
       "      <td>Gerg Salat der scherer gibt angaria\\n4 ℔ 2ring brot vom Hus zu der rotten\\nHennen und 5ß Erschatz und zu <span style=\"color: red;\">Wysung</span>\\n2 ring Brat.\\nAber gibt er vom selben Hus uf S. Jo.\\nbapt No 10ß.\\nRand: Zins ȡ= 8 ℔.</td>\n",
       "      <td><a href=\"https://files.transkribus.eu/Get?id=DCSFXNSBMVZIVRCWREYQGVDR&fileType=view\" target=\"_blank\"><img src=\"https://files.transkribus.eu/Get?id=DCSFXNSBMVZIVRCWREYQGVDR&fileType=view\" width=\"100\" /></a></td>\n",
       "    </tr>\n",
       "    <tr>\n",
       "      <th>21</th>\n",
       "      <td>HGB_1_184_023</td>\n",
       "      <td>Schneidergasse 17</td>\n",
       "      <td>33</td>\n",
       "      <td>1555</td>\n",
       "      <td>Schultheissen Urkunde.\\nPeter Anden der Schuchmacher, Burger zu Basel,\\nund Ursula Wolffhartin sin Eefrow verkaufen\\nMartha Hallerin, Hans Güglins sel. Burgers ze Ba-\\nsel. eelicher Witwe, 2 1/2 ℔. Zinses von uff und ab irem\\nHus und Hoffstatt, das in der Statt Basel an der\\nBrämergassen gegen Sant Andres über, zwüschen\\nHansen Juncker des Gwandtmans und Michel\\nZeberlin des Schniders Hüsern glegen und zum\\nlangen Stamler genant ist, zinst jerlichs von wer¬\\ngen der Eigenschafft der Prensens der hochen Stifft\\nBasel 2 ℔. Pfg. 1/2 ℔ Pfeffers ze <span style=\"color: red;\">Wysung</span> und 1/2 sh. zu\\nErschatz, wann sich die Hand verwandelt, um 50 ℔.\\nleger Stamler = 17\\nBaum = 15\\nGrosses Almosen.</td>\n",
       "      <td><a href=\"https://files.transkribus.eu/Get?id=VWXLPUCVQAKUJKNBPSHKXRJX&fileType=view\" target=\"_blank\"><img src=\"https://files.transkribus.eu/Get?id=VWXLPUCVQAKUJKNBPSHKXRJX&fileType=view\" width=\"100\" /></a></td>\n",
       "    </tr>\n",
       "    <tr>\n",
       "      <th>22</th>\n",
       "      <td>HGB_1_112_022</td>\n",
       "      <td>Leonhardsberg 8, 10</td>\n",
       "      <td>18</td>\n",
       "      <td>1571</td>\n",
       "      <td>Balthasar Meygelb, Schaffner der hohen Stifft, hat Ulrich Prattelers des Raths\\nBehusung, an st. Lienhardtberg glegen, einsidt Peter Gump, oben am\\nHus zur schwartzen Rüden und ist des Meyers Hof gnannt, versessener\\nzinsen wegen, als der Stifft jährl. darab 4 fl. in Gold 1 ℔ Wachs und 1 ring\\nzur <span style=\"color: red;\">Wysung</span>. Sodann 4 sh. zu Erschatz zinst wird, gefrönt.</td>\n",
       "      <td><a href=\"https://files.transkribus.eu/Get?id=RDCAZCAQDVDLPCPKPLGZAOST&fileType=view\" target=\"_blank\"><img src=\"https://files.transkribus.eu/Get?id=RDCAZCAQDVDLPCPKPLGZAOST&fileType=view\" width=\"100\" /></a></td>\n",
       "    </tr>\n",
       "    <tr>\n",
       "      <th>23</th>\n",
       "      <td>HGB_1_177_029</td>\n",
       "      <td>Sattelgasse Theil von 8 neben 10</td>\n",
       "      <td>52</td>\n",
       "      <td>1573</td>\n",
       "      <td>Lorentz Tschudi Schaffner des Prediger Closters, hat Andres Schiffers des Fisch¬\\nmachers Huss und Hofstatt, hinder der Schol. jnn der Sattelgassen gele¬\\ngen, und zur hindern Fallen genannt ist, versessener zinsen wegen, als\\ndem Closter jährl. darab 2 ℔ ewigs Gelts, ein Ring Brot zur <span style=\"color: red;\">Wysung</span> um\\n2 sh. zu Erschatz zinst wird, gefrönt.</td>\n",
       "      <td><a href=\"https://files.transkribus.eu/Get?id=UAQYAMTGAGJAIRQLUPAGXCBX&fileType=view\" target=\"_blank\"><img src=\"https://files.transkribus.eu/Get?id=UAQYAMTGAGJAIRQLUPAGXCBX&fileType=view\" width=\"100\" /></a></td>\n",
       "    </tr>\n",
       "    <tr>\n",
       "      <th>24</th>\n",
       "      <td>HGB_1_218_028</td>\n",
       "      <td>Streitgasse 20</td>\n",
       "      <td>56</td>\n",
       "      <td>1550</td>\n",
       "      <td>10ß Erschatz und 4ring zu <span style=\"color: red;\">Wysung</span> uff und\\nab dem Hus Hegenheim genannt, gelegen an\\nden Schwellen bin Barfüssern zwischen den\\nHüsern Heitwiler und zum Stritte, ist jetzt\\nzwey Hüser, eins das bad zu der langen Dütten\\ngit all fronfasten 5ß der Bader da selbst, ein\\nandern Hus ist ein schnider, heist Jacob Brech¬\\nvelder git auch all fronfasten 5ß ist als von\\nder Eegenschafft und Lehen¬</td>\n",
       "      <td><a href=\"https://files.transkribus.eu/Get?id=VYRRWANSKVSDAXWGTWRRHHAL&fileType=view\" target=\"_blank\"><img src=\"https://files.transkribus.eu/Get?id=VYRRWANSKVSDAXWGTWRRHHAL&fileType=view\" width=\"100\" /></a></td>\n",
       "    </tr>\n",
       "    <tr>\n",
       "      <th>25</th>\n",
       "      <td>HGB_1_227_073</td>\n",
       "      <td>Webergasse 36</td>\n",
       "      <td>18, 19</td>\n",
       "      <td>1572</td>\n",
       "      <td>Schultheissen Urkunde.\\nPetter Wylandt der Buchstabengiesser, Burger zu Basel\\nund Valeria von Bysantz sin Eefrow verkaufen Mei¬\\nster German Korner dem Gartner, Burger zu min¬\\ndern Basel, und Crischon Meyerin siner Eefrauwen das\\nHuss und Hoffstatt sampt dem Höfflin derhinder, als\\ndas in mindern Basel in der Wäbergassen zwüschen\\nHer Gerolff Wachter des Buchmans und Goriussen\\nN. ettwan Uberritters Hüsern glegen und Fürbach\\ngenant ist, zinset jerlichs der Lütkilchen zu Sanct\\nTheodern 3 ℔, und von Eigenschafft wegen dem Ampt\\nWettingen 13sh. Zinspfg. und zu <span style=\"color: red;\">Wysung</span> 2 Hüener und\\n2sh. zu Erschatz, wann sich die Handt verwandlet\\numb 202 ℔. [sep] Germann Korner d. Gärtner kaufft ein\\nHus und hoffstadt mit sampt dem höfflin darhinder\\numb 355 ℔.\\nhierinverleibte Behausung besitzt nun he¬\\nmahl frauen Judith Weissen u. gibt davon dem\\nGottshus St. Theodor jerlich uff Martini 3 ℔ 10 ß.\\n1618, Sambstag den 23. Jannuarii.\\nFrau Judith Weiss, weilendt Rudolf Syffen sel.\\nWittib, bekennt dem Gotteshaus St. Theodor jerlich\\nvon ihrem Hus Fürbach\\n3 ℔ 10ß Zins schuldig zu sein der Kaufbruff, der\\nderloren war, hat sich wider vorgefunden und\\nwürdi die Registratur eingetragen.</td>\n",
       "      <td><a href=\"https://files.transkribus.eu/Get?id=FOHNNCWMESFXFDHJOWZHQPSE&fileType=view\" target=\"_blank\"><img src=\"https://files.transkribus.eu/Get?id=FOHNNCWMESFXFDHJOWZHQPSE&fileType=view\" width=\"100\" /></a> <a href=\"https://files.transkribus.eu/Get?id=NARZVROXDVEJAJEKUFKYJIWD&fileType=view\" target=\"_blank\"><img src=\"https://files.transkribus.eu/Get?id=NARZVROXDVEJAJEKUFKYJIWD&fileType=view\" width=\"100\" /></a></td>\n",
       "    </tr>\n",
       "  </tbody>\n",
       "</table>"
      ],
      "text/plain": [
       "<IPython.core.display.HTML object>"
      ]
     },
     "metadata": {},
     "output_type": "display_data"
    }
   ],
   "source": [
    "# Reduce the table of results for the display. \n",
    "filtered_results = results[['id', 'house', 'pages', 'year', 'text', 'imagelinks']].copy()\n",
    "\n",
    "# Define the integration of the images in the table.\n",
    "def make_clickable_images(val):\n",
    "    urls = val.split(\" | \")\n",
    "    img_tags = [f'<a href=\"{url}\" target=\"_blank\"><img src=\"{url}\" width=\"100\" /></a>' for url in urls]\n",
    "    return \" \".join(img_tags)\n",
    "filtered_results['imagelinks'] = filtered_results['imagelinks'].apply(make_clickable_images)\n",
    "\n",
    "# Highlight the search word.\n",
    "def highlight_keyword(keyword, val):\n",
    "    if keyword in val:\n",
    "        return val.replace(f'{keyword}', f'<span style=\"color: red;\">{keyword}</span>')\n",
    "    return val\n",
    "filtered_results['text'] = filtered_results['text'].apply(\n",
    "    lambda x: highlight_keyword(SEARCH_KEYWORD, x)\n",
    "    )\n",
    "\n",
    "# Render the dataframe as HTML on show the table.\n",
    "html = filtered_results.to_html(escape=False)\n",
    "display(HTML(html))"
   ]
  },
  {
   "cell_type": "markdown",
   "metadata": {},
   "source": [
    "## Histogramm der Resultate über die Zeit\n",
    "Die Verteilung der Suchresultate über den Suchzeitraum wird in einem Histogramm visualisiert."
   ]
  },
  {
   "cell_type": "code",
   "execution_count": 6,
   "metadata": {},
   "outputs": [
    {
     "data": {
      "image/png": "[encoded data removed]",
      "text/plain": [
       "<Figure size 1000x600 with 1 Axes>"
      ]
     },
     "metadata": {},
     "output_type": "display_data"
    }
   ],
   "source": [
    "# Define the appearance of the histogram.\n",
    "plt.figure(figsize=(10, 6))\n",
    "n, bins, patches = plt.hist(\n",
    "    results['year'],\n",
    "    bins=range(min(results['year']), max(results['year']), 1),\n",
    "    edgecolor='black'\n",
    "    )\n",
    "plt.title('Histogram')\n",
    "plt.xlabel('Year')\n",
    "plt.ylabel('Frequency')\n",
    "plt.grid(axis='y', linestyle='--', alpha=0.7)\n",
    "plt.gca().set_axisbelow(True)\n",
    "plt.yticks(np.arange(0, np.max(n) + 1, 1))\n",
    "\n",
    "# Display the plot.\n",
    "plt.show()"
   ]
  },
  {
   "cell_type": "markdown",
   "metadata": {},
   "source": [
    "## Visualisiere Ergebnisse im Raum\n",
    "Die Suchresultate werden als Punkte auf dem \"Loeffel\"-Plan dargestellt."
   ]
  },
  {
   "cell_type": "code",
   "execution_count": 7,
   "metadata": {},
   "outputs": [
    {
     "data": {
      "application/vnd.jupyter.widget-view+json": {
       "model_id": "e800947fb1364d4ca1f580b380d3d9f5",
       "version_major": 2,
       "version_minor": 0
      },
      "text/plain": [
       "Map(center=[47.557, 7.595], controls=(ZoomControl(options=['position', 'zoom_in_text', 'zoom_in_title', 'zoom_…"
      ]
     },
     "execution_count": 7,
     "metadata": {},
     "output_type": "execute_result"
    }
   ],
   "source": [
    "# Transform the coordinates of the search results.\n",
    "def transform_coords(x, y):\n",
    "    transformer = Transformer.from_crs(2056, 4326)\n",
    "    return transformer.transform(x, y)\n",
    "results['lat'], results['lon'] = zip(*results.apply(\n",
    "    lambda row: transform_coords(row['coord_x'], row['coord_y']), axis=1\n",
    "    ))\n",
    "\n",
    "# Define the basemap.\n",
    "wms = WMSLayer(\n",
    "    url='https://wms.geo.bs.ch/',\n",
    "    layers='HP_Uebersichtsplaene_Basel_Situationsplan1862',\n",
    "    attribution='Geodaten Kanton Basel-Stadt'\n",
    ")\n",
    "m = Map(basemap=wms, center=(47.557, 7.595), zoom=14)\n",
    "\n",
    "# Add the search results to the map.\n",
    "for index, row in results.iterrows():\n",
    "    \n",
    "    # Create Circle.\n",
    "    circle = Circle(location=(row['lat'], row['lon']),\n",
    "                    radius=3,\n",
    "                    color='blue',\n",
    "                    fill_color='blue')\n",
    "    \n",
    "    # Add pop-up to display attributes of the circle.\n",
    "    popup_content = f\"\"\"ID: {row['id']}<br>\n",
    "    House: {row['house']}<br>\n",
    "    Pages: {row['pages']}<br>\n",
    "    Year: {row['year']}\"\"\"\n",
    "    popup = Popup(location=(row['lat'], row['lon']), child=widgets.HTML(popup_content), close_button=True)\n",
    "    circle.popup = popup\n",
    "\n",
    "    # Add the circle to the map.\n",
    "    m.add_layer(circle)\n",
    "\n",
    "#  Display the map.\n",
    "m"
   ]
  },
  {
   "cell_type": "markdown",
   "metadata": {},
   "source": [
    "## Suchresultate exportieren\n",
    "Exportiere Suchergebnisse als Exceltabelle in Arbeitsverzeichnis."
   ]
  },
  {
   "cell_type": "code",
   "execution_count": 8,
   "metadata": {},
   "outputs": [
    {
     "name": "stdout",
     "output_type": "stream",
     "text": [
      "Search results were exported.\n"
     ]
    }
   ],
   "source": [
    "results.to_excel('search_results.xlsx', index=False)\n",
    "print('Search results were exported.')"
   ]
  },
  {
   "cell_type": "markdown",
   "metadata": {},
   "source": [
    "# Fuzzy-Suche\n",
    "\n",
    "Die \"Fuzzy\"-Suche ist eine fehlertolerante Suche.\n",
    "\n",
    "Beispiel: Suche nach dem Begriff \"wisung\" (Standardschreibweise) in Paragraphen von Dokumenten im Zeitraum 1550 – 1600.\n",
    "\n",
    "Mit dem \"Verhältnis-Schwellenwert\" wird definiert, wie ähnlich Suchresultate zum Suchbegriff sein sollen. Je kleiner dieser Wert, je mehr Treffer werden generiert.\n",
    "\n",
    "TODO\n",
    "- Standardschreibweise definieren"
   ]
  },
  {
   "cell_type": "markdown",
   "metadata": {},
   "source": [
    "## Definiere Suchparameter"
   ]
  },
  {
   "cell_type": "code",
   "execution_count": 9,
   "metadata": {},
   "outputs": [],
   "source": [
    "# Set search word.\n",
    "SEARCH_KEYWORD = 'wisung'\n",
    "\n",
    "# Define search period.\n",
    "YEAR_MIN = 1550\n",
    "YEAR_MAX = 1600\n",
    "\n",
    "# Ratio threshold between 0 and 100.\n",
    "RATIO_THRESHOLD = 80"
   ]
  },
  {
   "cell_type": "markdown",
   "metadata": {},
   "source": [
    "## Suche ausführen"
   ]
  },
  {
   "cell_type": "code",
   "execution_count": 10,
   "metadata": {},
   "outputs": [
    {
     "name": "stdout",
     "output_type": "stream",
     "text": [
      "The fuzzy search with the search term \"wisung\" found 389 of documents in the period between 1550 and 1600 with a ratio of 80 or more.\n"
     ]
    }
   ],
   "source": [
    "# Load xml file.\n",
    "context = ET.iterparse(FILEPATH_DATASOURCE, events=('start', 'end'))\n",
    "\n",
    "# Create an empty dataframe to store the search results.\n",
    "results = pd.DataFrame(\n",
    "    columns=['id', 'house', 'coord_x', 'coord_y',\n",
    "             'pages', 'year', 'text', 'imagelinks',\n",
    "             'ratio']\n",
    "    )\n",
    "\n",
    "# Iterate over each element.\n",
    "collection_element = None\n",
    "for event, elem in context:\n",
    "    if event == 'start' and elem.tag == 'Collection':\n",
    "            \n",
    "        # Store current collection element.\n",
    "        collection_element = elem\n",
    "    \n",
    "    elif event == 'end' and elem.tag == 'Document':\n",
    "            \n",
    "        # Get the header element.\n",
    "        header = elem.find('Header')\n",
    "        \n",
    "        # Determine the year of the document.\n",
    "        year = int(header.get('year'))\n",
    "\n",
    "        # Skip the document if not in desired search period.\n",
    "        if year < YEAR_MIN or year > YEAR_MAX:\n",
    "            continue\n",
    "\n",
    "        # Get the text attribute.\n",
    "        text = header.get('text')\n",
    "\n",
    "        # Perform a fuzzy search.\n",
    "        ratio = fuzz.partial_token_sort_ratio(SEARCH_KEYWORD, text)\n",
    "\n",
    "        # Search for keyword in text.\n",
    "        if ratio >= RATIO_THRESHOLD:\n",
    "        \n",
    "            # Store selected elements in dataframe.\n",
    "            results.loc[len(results)] = [\n",
    "                collection_element.attrib['id'],\n",
    "                collection_element.attrib['house'],\n",
    "                collection_element.attrib['coord_x'],\n",
    "                collection_element.attrib['coord_y'],\n",
    "                header.get('pages'),\n",
    "                year,\n",
    "                text,\n",
    "                header.get('imagelinks'),\n",
    "                ratio\n",
    "                ]\n",
    "\n",
    "# Print the number of search results.\n",
    "print(f'The fuzzy search with the search term \"{SEARCH_KEYWORD}\" '\n",
    "      f'found {results.shape[0]} of documents in the period between '\n",
    "      f'{YEAR_MIN} and {YEAR_MAX} with a ratio of {RATIO_THRESHOLD} or more.'\n",
    "      )"
   ]
  },
  {
   "cell_type": "markdown",
   "metadata": {},
   "source": [
    "# Suche nach Entität\n",
    "Annotationssuche nach einer Entität.\n",
    "\n",
    "\n",
    "Beispiel: Suche nach dem Begriff \"Fischer\" in Paragraphen von Dokumenten im Zeitraum 1550 – 1600.\n",
    "\n",
    "\n",
    "TODO\n",
    "- Definieren, was eine Entität ist.\n",
    "- Parameter MENTION_SUBTYPE definieren.\n",
    "- Mögliche Werte für MENTION_SUBTYPE definieren.\n",
    "- Ev. Normalisierung definieren\n"
   ]
  },
  {
   "cell_type": "markdown",
   "metadata": {},
   "source": [
    "## Suchparameter"
   ]
  },
  {
   "cell_type": "code",
   "execution_count": 11,
   "metadata": {},
   "outputs": [],
   "source": [
    "# Set search word.\n",
    "SEARCH_KEYWORD = 'Fischer'\n",
    "\n",
    "# Define the mention subtype.\n",
    "MENTION_SUBTYPE = 'occ'\n",
    "\n",
    "# Define search period.\n",
    "YEAR_MIN = 1550\n",
    "YEAR_MAX = 1600"
   ]
  },
  {
   "cell_type": "markdown",
   "metadata": {},
   "source": [
    "## Suche ausführen"
   ]
  },
  {
   "cell_type": "code",
   "execution_count": 12,
   "metadata": {},
   "outputs": [
    {
     "name": "stdout",
     "output_type": "stream",
     "text": [
      "The keyword \"Fischer\" was found in 22 entities of entity mention subtype \"occ\" in documents from the period 1550 to 1600.\n"
     ]
    }
   ],
   "source": [
    "# Load xml file.\n",
    "context = ET.iterparse(FILEPATH_DATASOURCE, events=('start', 'end'))\n",
    "\n",
    "# Create an empty dataframe to store the search results.\n",
    "results = pd.DataFrame(\n",
    "    columns=['id', 'house', 'coord_x', 'coord_y',\n",
    "             'pages', 'year', 'text', 'imagelinks',\n",
    "             'head', 'confidence'\n",
    "             ]\n",
    "    )\n",
    "\n",
    "# Iterate over each element.\n",
    "collection_element = None\n",
    "for event, elem in context:\n",
    "    if event == 'start' and elem.tag == 'Collection':\n",
    "            \n",
    "        # Store current collection element.\n",
    "        collection_element = elem\n",
    "    \n",
    "    elif event == 'end' and elem.tag == 'Document':\n",
    "            \n",
    "        # Get the header element.\n",
    "        header = elem.find('Header')\n",
    "        \n",
    "        # Determine the year of the document.\n",
    "        year = int(header.get('year'))\n",
    "\n",
    "        # Skip the document if not in desired search period.\n",
    "        if year < YEAR_MIN or year > YEAR_MAX:\n",
    "            continue\n",
    "        \n",
    "        # Iterate over all attributes of the document.\n",
    "        for attribute in elem.findall('.//Attribute'):\n",
    "            if attribute.attrib.get('mention_subtype') == MENTION_SUBTYPE:\n",
    "                \n",
    "                # Get the header text.\n",
    "                head = attribute.find('.//Head')\n",
    "                head_text = head.text\n",
    "\n",
    "                # Search for keyword in text.\n",
    "                if head_text and SEARCH_KEYWORD in head_text:\n",
    "                \n",
    "                    # Store selected elements in dataframe.\n",
    "                    results.loc[len(results)] = [\n",
    "                        collection_element.attrib['id'],\n",
    "                        collection_element.attrib['house'],\n",
    "                        collection_element.attrib['coord_x'],\n",
    "                        collection_element.attrib['coord_y'],\n",
    "                        header.get('pages'),\n",
    "                        year,\n",
    "                        header.get('text'),\n",
    "                        header.get('imagelinks'),\n",
    "                        head_text,\n",
    "                        attribute.attrib.get('confidence')\n",
    "                        ]\n",
    "\n",
    "# Print the number of search results.\n",
    "print(f'The keyword \"{SEARCH_KEYWORD}\" was found in {results.shape[0]} entities of '\n",
    "      f'entity mention subtype \"{MENTION_SUBTYPE}\" in documents from the period {YEAR_MIN} to {YEAR_MAX}.'\n",
    "      )"
   ]
  },
  {
   "cell_type": "markdown",
   "metadata": {},
   "source": [
    "# Suche nach Event\n",
    "Annotationssuche nach einem Event.\n",
    "\n",
    "Beispiel: Suche nach dem Begriff \"gefrönt\" in Paragraphen von Dokumenten im Zeitraum 1550 – 1600.\n",
    "\n",
    "\n",
    "TODO\n",
    "- Definieren, was ein Event ist.\n",
    "- Parameter EVENT_TYPE definieren.\n",
    "- Mögliche Werte für EVENT_TYPE definieren."
   ]
  },
  {
   "cell_type": "markdown",
   "metadata": {},
   "source": [
    "## Suchparameter"
   ]
  },
  {
   "cell_type": "code",
   "execution_count": 13,
   "metadata": {},
   "outputs": [],
   "source": [
    "# Set search word.\n",
    "SEARCH_KEYWORD = 'gefrönt'\n",
    "\n",
    "# Define the event type.\n",
    "EVENT_TYPE = 'seizure'\n",
    "\n",
    "# Define search period.\n",
    "YEAR_MIN = 1550\n",
    "YEAR_MAX = 1600"
   ]
  },
  {
   "cell_type": "markdown",
   "metadata": {},
   "source": [
    "## Suche ausführen"
   ]
  },
  {
   "cell_type": "code",
   "execution_count": 14,
   "metadata": {},
   "outputs": [
    {
     "name": "stdout",
     "output_type": "stream",
     "text": [
      "The keyword \"gefrönt\" was found in 1476 events of event type \"seizure\" in documents from the period 1550 to 1600.\n"
     ]
    }
   ],
   "source": [
    "# Load xml file.\n",
    "context = ET.iterparse(FILEPATH_DATASOURCE, events=('start', 'end'))\n",
    "\n",
    "# Create an empty dataframe to store the search results.\n",
    "results = pd.DataFrame(\n",
    "    columns=['id', 'house', 'coord_x', 'coord_y',\n",
    "             'pages', 'year', 'text', 'imagelinks',\n",
    "             'trigger_text', 'confidence'\n",
    "             ]\n",
    "    )\n",
    "\n",
    "# Iterate over each element.\n",
    "collection_element = None\n",
    "for event, elem in context:\n",
    "    if event == 'start' and elem.tag == 'Collection':\n",
    "            \n",
    "        # Store current collection element.\n",
    "        collection_element = elem\n",
    "    \n",
    "    elif event == 'end' and elem.tag == 'Document':\n",
    "            \n",
    "        # Get the header element.\n",
    "        header = elem.find('Header')\n",
    "        \n",
    "        # Determine the year of the document.\n",
    "        year = int(header.get('year'))\n",
    "\n",
    "        # Skip the document if not in desired search period.\n",
    "        if year < YEAR_MIN or year > YEAR_MAX:\n",
    "            continue\n",
    "        \n",
    "        # Iterate over all events of the document.\n",
    "        for doc_event in elem.findall('.//Event'):\n",
    "            if doc_event.attrib.get('type') == EVENT_TYPE:\n",
    "\n",
    "                # Get the trigger text attribute.\n",
    "                trigger = doc_event.find('.//Trigger')\n",
    "                trigger_text = trigger.attrib.get('text')\n",
    "                \n",
    "                # Search for keyword in text.\n",
    "                if SEARCH_KEYWORD in trigger_text:\n",
    "                \n",
    "                    # Store selected elements in dataframe.\n",
    "                    results.loc[len(results)] = [\n",
    "                        collection_element.attrib['id'],\n",
    "                        collection_element.attrib['house'],\n",
    "                        collection_element.attrib['coord_x'],\n",
    "                        collection_element.attrib['coord_y'],\n",
    "                        header.get('pages'),\n",
    "                        year,\n",
    "                        header.get('text'),\n",
    "                        header.get('imagelinks'),\n",
    "                        trigger_text,\n",
    "                        trigger.attrib.get('confidence')\n",
    "                        ]\n",
    "\n",
    "# Print the number of search results.\n",
    "print(f'The keyword \"{SEARCH_KEYWORD}\" was found in {results.shape[0]} events of '\n",
    "      f'event type \"{EVENT_TYPE}\" in documents from the period {YEAR_MIN} to {YEAR_MAX}.'\n",
    "      )"
   ]
  }
 ],
 "metadata": {
  "kernelspec": {
   "display_name": "Python 3",
   "language": "python",
   "name": "python3"
  },
  "language_info": {
   "codemirror_mode": {
    "name": "ipython",
    "version": 3
   },
   "file_extension": ".py",
   "mimetype": "text/x-python",
   "name": "python",
   "nbconvert_exporter": "python",
   "pygments_lexer": "ipython3",
   "version": "3.12.4"
  }
 },
 "nbformat": 4,
 "nbformat_minor": 2
}
